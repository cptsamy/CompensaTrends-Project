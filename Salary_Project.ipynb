{
 "cells": [
  {
   "cell_type": "markdown",
   "id": "f089231d",
   "metadata": {},
   "source": [
    "Samuel Castro\n",
    "        \n",
    "        8.3 Course Project: Milestone 4--Finalizing Your Results"
   ]
  },
  {
   "cell_type": "code",
   "execution_count": 1,
   "id": "2e68d34f",
   "metadata": {},
   "outputs": [],
   "source": [
    "import pandas as pd\n",
    "from sklearn.model_selection import train_test_split\n",
    "from sklearn.preprocessing import OneHotEncoder\n",
    "from sklearn.compose import ColumnTransformer\n",
    "from sklearn.linear_model import LinearRegression\n",
    "from sklearn.tree import DecisionTreeRegressor\n",
    "from sklearn.metrics import mean_squared_error\n",
    "import matplotlib.pyplot as plt\n",
    "from sklearn.preprocessing import StandardScaler"
   ]
  },
  {
   "cell_type": "code",
   "execution_count": 2,
   "id": "398ad2e6",
   "metadata": {},
   "outputs": [],
   "source": [
    "# Load the data from txt file\n",
    "file_path = 'Desktop/DSC 630/datascience_salaries.csv' \n",
    "df = pd.read_csv(file_path)"
   ]
  },
  {
   "cell_type": "code",
   "execution_count": 3,
   "id": "1d1a105c",
   "metadata": {},
   "outputs": [
    {
     "data": {
      "text/html": [
       "<div>\n",
       "<style scoped>\n",
       "    .dataframe tbody tr th:only-of-type {\n",
       "        vertical-align: middle;\n",
       "    }\n",
       "\n",
       "    .dataframe tbody tr th {\n",
       "        vertical-align: top;\n",
       "    }\n",
       "\n",
       "    .dataframe thead th {\n",
       "        text-align: right;\n",
       "    }\n",
       "</style>\n",
       "<table border=\"1\" class=\"dataframe\">\n",
       "  <thead>\n",
       "    <tr style=\"text-align: right;\">\n",
       "      <th></th>\n",
       "      <th>Unnamed: 0</th>\n",
       "      <th>job_title</th>\n",
       "      <th>job_type</th>\n",
       "      <th>experience_level</th>\n",
       "      <th>location</th>\n",
       "      <th>salary_currency</th>\n",
       "      <th>salary</th>\n",
       "    </tr>\n",
       "  </thead>\n",
       "  <tbody>\n",
       "    <tr>\n",
       "      <th>0</th>\n",
       "      <td>0</td>\n",
       "      <td>Data scientist</td>\n",
       "      <td>Full Time</td>\n",
       "      <td>Senior</td>\n",
       "      <td>New York City</td>\n",
       "      <td>USD</td>\n",
       "      <td>149000</td>\n",
       "    </tr>\n",
       "    <tr>\n",
       "      <th>1</th>\n",
       "      <td>2</td>\n",
       "      <td>Data scientist</td>\n",
       "      <td>Full Time</td>\n",
       "      <td>Senior</td>\n",
       "      <td>Boston</td>\n",
       "      <td>USD</td>\n",
       "      <td>120000</td>\n",
       "    </tr>\n",
       "    <tr>\n",
       "      <th>2</th>\n",
       "      <td>3</td>\n",
       "      <td>Data scientist</td>\n",
       "      <td>Full Time</td>\n",
       "      <td>Senior</td>\n",
       "      <td>London</td>\n",
       "      <td>USD</td>\n",
       "      <td>68000</td>\n",
       "    </tr>\n",
       "    <tr>\n",
       "      <th>3</th>\n",
       "      <td>4</td>\n",
       "      <td>Data scientist</td>\n",
       "      <td>Full Time</td>\n",
       "      <td>Senior</td>\n",
       "      <td>Boston</td>\n",
       "      <td>USD</td>\n",
       "      <td>120000</td>\n",
       "    </tr>\n",
       "    <tr>\n",
       "      <th>4</th>\n",
       "      <td>5</td>\n",
       "      <td>Data scientist</td>\n",
       "      <td>Full Time</td>\n",
       "      <td>Senior</td>\n",
       "      <td>New York City</td>\n",
       "      <td>USD</td>\n",
       "      <td>149000</td>\n",
       "    </tr>\n",
       "  </tbody>\n",
       "</table>\n",
       "</div>"
      ],
      "text/plain": [
       "   Unnamed: 0       job_title   job_type experience_level       location  \\\n",
       "0           0  Data scientist  Full Time           Senior  New York City   \n",
       "1           2  Data scientist  Full Time           Senior         Boston   \n",
       "2           3  Data scientist  Full Time           Senior         London   \n",
       "3           4  Data scientist  Full Time           Senior         Boston   \n",
       "4           5  Data scientist  Full Time           Senior  New York City   \n",
       "\n",
       "  salary_currency  salary  \n",
       "0             USD  149000  \n",
       "1             USD  120000  \n",
       "2             USD   68000  \n",
       "3             USD  120000  \n",
       "4             USD  149000  "
      ]
     },
     "execution_count": 3,
     "metadata": {},
     "output_type": "execute_result"
    }
   ],
   "source": [
    "df.head()"
   ]
  },
  {
   "cell_type": "markdown",
   "id": "eafc5421",
   "metadata": {},
   "source": [
    "Explain your process for prepping the data:\n",
    "\n",
    "The process of prepping the data involves cleaning, transforming, and preparing the dataset for analysis and model building.\n",
    "\n",
    "In this case, I started by loading the provided data into a pandas DataFrame.\n",
    "\n",
    "I then performed some simple cleaning steps where I removed any duplicate rows and checked for missing values. I then did a simple check of outliers by checking the maximum and minimum values for salary.\n",
    "\n",
    "I identified the target variable (salary) and the predictor variables (job_type, experience_level, and location).\n",
    "\n",
    "Since the dataset contained categorical variables (job_type, experience_level, and location), I used one-hot encoding to convert them into a numerical format suitable for regression models.\n",
    "\n",
    "I split the data into training and testing sets to train the models on one portion of the data and evaluate their performance on another independent portion."
   ]
  },
  {
   "cell_type": "code",
   "execution_count": 4,
   "id": "abf0b978",
   "metadata": {},
   "outputs": [],
   "source": [
    "# Remove duplicate rows, if any\n",
    "df.drop_duplicates(inplace=True)"
   ]
  },
  {
   "cell_type": "code",
   "execution_count": 5,
   "id": "1cd5499b",
   "metadata": {},
   "outputs": [
    {
     "name": "stdout",
     "output_type": "stream",
     "text": [
      "Unnamed: 0          0\n",
      "job_title           0\n",
      "job_type            0\n",
      "experience_level    0\n",
      "location            0\n",
      "salary_currency     0\n",
      "salary              0\n",
      "dtype: int64\n"
     ]
    }
   ],
   "source": [
    "# Check for missing values in the data\n",
    "missing_values = df.isnull().sum()\n",
    "\n",
    "# Display the count of missing values for each column\n",
    "print(missing_values)"
   ]
  },
  {
   "cell_type": "code",
   "execution_count": 6,
   "id": "1d25d2bc",
   "metadata": {},
   "outputs": [
    {
     "name": "stdout",
     "output_type": "stream",
     "text": [
      "Maximum Salary: 228000\n",
      "Minimum Salary: 30000\n"
     ]
    }
   ],
   "source": [
    "# Find the maximum and minimum salary values\n",
    "max_salary = df['salary'].max()\n",
    "min_salary = df['salary'].min()\n",
    "\n",
    "# Display the results\n",
    "print(\"Maximum Salary:\", max_salary)\n",
    "print(\"Minimum Salary:\", min_salary)"
   ]
  },
  {
   "cell_type": "code",
   "execution_count": 7,
   "id": "fa7bd19f",
   "metadata": {},
   "outputs": [],
   "source": [
    "# Step 1: Data Preprocessing - Convert categorical variables into numerical values\n",
    "# I will use one-hot encoding for job_title, job_type, experience_level, and location\n",
    "\n",
    "categorical_columns = ['job_title', 'job_type', 'experience_level']\n",
    "numeric_columns = ['salary']\n",
    "\n",
    "# One-hot encode the categorical columns\n",
    "encoder = OneHotEncoder(drop='first', sparse=False)\n",
    "encoded_features = encoder.fit_transform(df[categorical_columns])\n",
    "\n",
    "# Create a new DataFrame with the encoded features and the numeric columns\n",
    "encoded_df = pd.DataFrame(encoded_features, columns=encoder.get_feature_names_out(categorical_columns))\n",
    "data_processed = pd.concat([encoded_df, df[numeric_columns]], axis=1)"
   ]
  },
  {
   "cell_type": "markdown",
   "id": "1b0a962f",
   "metadata": {},
   "source": [
    "The first model I will be building is going to be multiple linear regression and the second model will be decision tree regression. The reason I am using both of these models is because these models can capture both linear and non-linear relationships between job type, level of experience, and salary."
   ]
  },
  {
   "cell_type": "code",
   "execution_count": 8,
   "id": "8ebb7920",
   "metadata": {},
   "outputs": [],
   "source": [
    "# Step 2: Split the data into training and testing sets\n",
    "X = data_processed.drop('salary', axis=1)\n",
    "y = data_processed['salary']\n",
    "X_train, X_test, y_train, y_test = train_test_split(X, y, test_size=0.2, random_state=42)"
   ]
  },
  {
   "cell_type": "code",
   "execution_count": 9,
   "id": "c9b35d10",
   "metadata": {},
   "outputs": [
    {
     "data": {
      "text/plain": [
       "LinearRegression()"
      ]
     },
     "execution_count": 9,
     "metadata": {},
     "output_type": "execute_result"
    }
   ],
   "source": [
    "# Step 3: Build the Multiple Linear Regression model\n",
    "linear_regression_model = LinearRegression()\n",
    "linear_regression_model.fit(X_train, y_train)"
   ]
  },
  {
   "cell_type": "code",
   "execution_count": 10,
   "id": "2b978cdd",
   "metadata": {},
   "outputs": [
    {
     "data": {
      "text/plain": [
       "DecisionTreeRegressor(random_state=42)"
      ]
     },
     "execution_count": 10,
     "metadata": {},
     "output_type": "execute_result"
    }
   ],
   "source": [
    "# Step 4: Build the Decision Tree Regression model\n",
    "decision_tree_model = DecisionTreeRegressor(random_state=42)\n",
    "decision_tree_model.fit(X_train, y_train)"
   ]
  },
  {
   "cell_type": "code",
   "execution_count": 11,
   "id": "9b4384c1",
   "metadata": {},
   "outputs": [
    {
     "name": "stdout",
     "output_type": "stream",
     "text": [
      "Multiple Linear Regression Mean Squared Error: 1129852350.874494\n",
      "Decision Tree Regression Mean Squared Error: 1119725328.3491523\n"
     ]
    }
   ],
   "source": [
    "# Step 5: Evaluate the models\n",
    "# For the linear regression model\n",
    "y_pred_linear = linear_regression_model.predict(X_test)\n",
    "mse_linear = mean_squared_error(y_test, y_pred_linear)\n",
    "print(f\"Multiple Linear Regression Mean Squared Error: {mse_linear}\")\n",
    "\n",
    "# For the decision tree regression model\n",
    "y_pred_tree = decision_tree_model.predict(X_test)\n",
    "mse_tree = mean_squared_error(y_test, y_pred_tree)\n",
    "print(f\"Decision Tree Regression Mean Squared Error: {mse_tree}\")"
   ]
  },
  {
   "cell_type": "markdown",
   "id": "5d737ce8",
   "metadata": {},
   "source": [
    "The MSE for the Multiple Linear Regression model is approximately 1,129,852,350. This value represents the average squared difference between the predicted salary values by the Multiple Linear Regression model and the actual salary values in the dataset. Since the MSE is relatively high, it suggests that the model has some level of error in its predictions, meaning it's not perfectly accurate in estimating the salaries. However, the MSE value is still reasonable, indicating that the Multiple Linear Regression model is making predictions that are fairly close to the actual salary values."
   ]
  },
  {
   "cell_type": "markdown",
   "id": "9c5113ce",
   "metadata": {},
   "source": [
    "The MSE for the Decision Tree Regression model is approximately 1,119,725,328. The MSE for the Decision Tree Regression model is approximately 1,119,725,328.35. This value represents the average squared difference between the predicted salary values by the Decision Tree Regression model and the actual salary values in the dataset. Similar to the Multiple Linear Regression model, the Decision Tree model also has some level of error in its predictions. However, the Decision Tree model's MSE is slightly lower compared to the Multiple Linear Regression model, indicating that the Decision Tree model is making slightly more accurate predictions on average."
   ]
  },
  {
   "cell_type": "markdown",
   "id": "725127af",
   "metadata": {},
   "source": [
    "Both models are performing relatively similarly with the Decision Tree Regression model having a slightly lower MSE. This suggests that the Decision Tree model is slightly better at making predictions on this specific dataset compared to the Multiple Linear Regression model. However, it's important to note that the difference in MSE values is not substantial, and further analysis or fine-tuning of the models may be needed to improve prediction accuracy."
   ]
  },
  {
   "cell_type": "markdown",
   "id": "d691f93c",
   "metadata": {},
   "source": [
    "In the next models I will add location to see if it plays a part in the prediction model"
   ]
  },
  {
   "cell_type": "code",
   "execution_count": 12,
   "id": "817e19fd",
   "metadata": {},
   "outputs": [],
   "source": [
    "# Step 1: Data Preprocessing - Convert categorical variables into numerical values\n",
    "# I will use one-hot encoding for job_title, job_type, experience_level, and location\n",
    "\n",
    "categorical_columns1 = ['job_title', 'job_type', 'experience_level', 'location']\n",
    "numeric_columns1 = ['salary']\n",
    "\n",
    "# One-hot encode the categorical columns\n",
    "encoder = OneHotEncoder(drop='first', sparse=False)\n",
    "encoded_features = encoder.fit_transform(df[categorical_columns1])\n",
    "\n",
    "# Create a new DataFrame with the encoded features and the numeric columns\n",
    "encoded_df1 = pd.DataFrame(encoded_features, columns=encoder.get_feature_names_out(categorical_columns1))\n",
    "data_processed1 = pd.concat([encoded_df, df[numeric_columns1]], axis=1)\n"
   ]
  },
  {
   "cell_type": "code",
   "execution_count": 13,
   "id": "b8287925",
   "metadata": {},
   "outputs": [],
   "source": [
    "# Step 2: Split the data into training and testing sets\n",
    "X1 = data_processed1.drop('salary', axis=1)\n",
    "y1 = data_processed1['salary']\n",
    "X_train1, X_test1, y_train1, y_test1 = train_test_split(X1, y1, test_size=0.2, random_state=42)"
   ]
  },
  {
   "cell_type": "code",
   "execution_count": 14,
   "id": "33217c7d",
   "metadata": {},
   "outputs": [
    {
     "data": {
      "text/plain": [
       "LinearRegression()"
      ]
     },
     "execution_count": 14,
     "metadata": {},
     "output_type": "execute_result"
    }
   ],
   "source": [
    "# Step 3: Build the Multiple Linear Regression model\n",
    "linear_regression_model1 = LinearRegression()\n",
    "linear_regression_model1.fit(X_train1, y_train1)"
   ]
  },
  {
   "cell_type": "code",
   "execution_count": 15,
   "id": "75aeed8d",
   "metadata": {},
   "outputs": [
    {
     "data": {
      "text/plain": [
       "DecisionTreeRegressor(random_state=42)"
      ]
     },
     "execution_count": 15,
     "metadata": {},
     "output_type": "execute_result"
    }
   ],
   "source": [
    "# Step 4: Build the Decision Tree Regression model\n",
    "decision_tree_model1 = DecisionTreeRegressor(random_state=42)\n",
    "decision_tree_model1.fit(X_train1, y_train1)"
   ]
  },
  {
   "cell_type": "code",
   "execution_count": 16,
   "id": "fb96ffd7",
   "metadata": {},
   "outputs": [
    {
     "name": "stdout",
     "output_type": "stream",
     "text": [
      "Multiple Linear Regression Mean Squared Error: 1129852350.874494\n",
      "Decision Tree Regression Mean Squared Error: 1119725328.3491523\n"
     ]
    }
   ],
   "source": [
    "# Step 5: Evaluate the models\n",
    "# For the linear regression model\n",
    "y_pred_linear1 = linear_regression_model1.predict(X_test1)\n",
    "mse_linear1 = mean_squared_error(y_test1, y_pred_linear1)\n",
    "print(f\"Multiple Linear Regression Mean Squared Error: {mse_linear1}\")\n",
    "\n",
    "# For the decision tree regression model\n",
    "y_pred_tree1 = decision_tree_model1.predict(X_test1)\n",
    "mse_tree1 = mean_squared_error(y_test1, y_pred_tree1)\n",
    "print(f\"Decision Tree Regression Mean Squared Error: {mse_tree}\")"
   ]
  },
  {
   "cell_type": "markdown",
   "id": "94684a4c",
   "metadata": {},
   "source": [
    "I will perform further analysis of the models to improve prediction accuracy in the next code because the prediction accuracy still did not improve with adding location."
   ]
  },
  {
   "cell_type": "markdown",
   "id": "e9288843",
   "metadata": {},
   "source": [
    "In this updated code, we have introduced feature engineering by creating an interaction term between the 'job_title_ML Ops' and 'experience_level_Senior' features. Additionally, we've standardized the numerical features using StandardScaler.\n",
    "\n",
    "Moreover, for the Multiple Linear Regression model, we've switched to using Ridge regression (L2 regularization) by setting alpha=1.0. The alpha parameter controls the strength of regularization, and you can experiment with different values to find the one that works best for your data."
   ]
  },
  {
   "cell_type": "code",
   "execution_count": 17,
   "id": "6ac500d3",
   "metadata": {},
   "outputs": [],
   "source": [
    "from sklearn.preprocessing import OneHotEncoder, StandardScaler\n",
    "from sklearn.linear_model import Ridge  # Use Ridge for regularization"
   ]
  },
  {
   "cell_type": "code",
   "execution_count": 18,
   "id": "f091636e",
   "metadata": {},
   "outputs": [],
   "source": [
    "# Step 1: Data Preprocessing - Convert categorical variables into numerical values\n",
    "categorical_columns = ['job_title', 'job_type', 'experience_level']\n",
    "numeric_columns = ['salary']\n",
    "\n",
    "# One-hot encode the categorical columns\n",
    "encoder = OneHotEncoder(drop='first', sparse=False)\n",
    "encoded_features = encoder.fit_transform(df[categorical_columns])\n",
    "\n",
    "# Create a new DataFrame with the encoded features and the numeric columns\n",
    "encoded_df = pd.DataFrame(encoded_features, columns=encoder.get_feature_names_out(categorical_columns))\n",
    "data_processed = pd.concat([encoded_df, df[numeric_columns]], axis=1)"
   ]
  },
  {
   "cell_type": "code",
   "execution_count": 19,
   "id": "eb41a8bc",
   "metadata": {},
   "outputs": [],
   "source": [
    "# Step 2: Feature Engineering - Create interaction terms and standardize numeric columns\n",
    "# For simplicity, I will create an interaction term between 'job_title_ML Ops' and 'experience_level_Senior'\n",
    "data_processed['job_title_ML Ops * experience_level_Senior'] = data_processed['job_title_ML Ops'] * data_processed['experience_level_Senior']\n",
    "\n",
    "# Standardize numeric columns\n",
    "scaler = StandardScaler()\n",
    "data_processed[numeric_columns] = scaler.fit_transform(data_processed[numeric_columns])"
   ]
  },
  {
   "cell_type": "code",
   "execution_count": 20,
   "id": "db5d2130",
   "metadata": {},
   "outputs": [],
   "source": [
    "# Step 3: Split the data into training and testing sets\n",
    "X = data_processed.drop('salary', axis=1)\n",
    "y = data_processed['salary']\n",
    "X_train, X_test, y_train, y_test = train_test_split(X, y, test_size=0.2, random_state=42)"
   ]
  },
  {
   "cell_type": "code",
   "execution_count": 21,
   "id": "12dbff63",
   "metadata": {},
   "outputs": [
    {
     "data": {
      "text/plain": [
       "Ridge()"
      ]
     },
     "execution_count": 21,
     "metadata": {},
     "output_type": "execute_result"
    }
   ],
   "source": [
    "# Step 4: Build the Multiple Linear Regression model with Ridge regularization\n",
    "ridge_regression_model = Ridge(alpha=1.0)  # Use alpha value as needed for regularization strength\n",
    "ridge_regression_model.fit(X_train, y_train)"
   ]
  },
  {
   "cell_type": "code",
   "execution_count": 22,
   "id": "9ce33ab5",
   "metadata": {},
   "outputs": [
    {
     "data": {
      "text/plain": [
       "DecisionTreeRegressor(random_state=42)"
      ]
     },
     "execution_count": 22,
     "metadata": {},
     "output_type": "execute_result"
    }
   ],
   "source": [
    "# Step 5: Build the Decision Tree Regression model\n",
    "decision_tree_model = DecisionTreeRegressor(random_state=42)\n",
    "decision_tree_model.fit(X_train, y_train)"
   ]
  },
  {
   "cell_type": "code",
   "execution_count": 23,
   "id": "b9650816",
   "metadata": {
    "scrolled": true
   },
   "outputs": [
    {
     "name": "stdout",
     "output_type": "stream",
     "text": [
      "Ridge Regression Mean Squared Error: 1.0696236598014985\n",
      "Decision Tree Regression Mean Squared Error: 1.0579698649783258\n"
     ]
    }
   ],
   "source": [
    "# Step 6: Evaluate the models\n",
    "# For the Ridge Regression model\n",
    "y_pred_ridge = ridge_regression_model.predict(X_test)\n",
    "mse_ridge = mean_squared_error(y_test, y_pred_ridge)\n",
    "print(f\"Ridge Regression Mean Squared Error: {mse_ridge}\")\n",
    "\n",
    "# For the Decision Tree Regression model\n",
    "y_pred_tree = decision_tree_model.predict(X_test)\n",
    "mse_tree = mean_squared_error(y_test, y_pred_tree)\n",
    "print(f\"Decision Tree Regression Mean Squared Error: {mse_tree}\")"
   ]
  },
  {
   "cell_type": "markdown",
   "id": "192fd812",
   "metadata": {},
   "source": [
    "As you can see the model is working significantly better when compared to the first couple of models I ran"
   ]
  },
  {
   "cell_type": "markdown",
   "id": "3fd900ef",
   "metadata": {},
   "source": [
    "The MSE for the Ridge Regression model is approximately 1.07. This value represents the average squared difference between the predicted salary values by the Ridge Regression model and the actual salary values in the dataset. Since the MSE is relatively low, it suggests that the Ridge Regression model is making accurate predictions, and the predicted salary values are quite close to the actual salary values in the dataset."
   ]
  },
  {
   "cell_type": "markdown",
   "id": "27773dd9",
   "metadata": {},
   "source": [
    "The MSE for the Decision Tree Regression model is approximately 1.06. This value represents the average squared difference between the predicted salary values by the Decision Tree Regression model and the actual salary values in the dataset. Similar to the Ridge Regression model, the Decision Tree model also has a relatively low MSE, indicating that it is making accurate predictions, and the predicted salary values are close to the actual salary values in the dataset."
   ]
  },
  {
   "cell_type": "markdown",
   "id": "13523493",
   "metadata": {},
   "source": [
    "Repeating the process but with location added in"
   ]
  },
  {
   "cell_type": "code",
   "execution_count": 24,
   "id": "468ff2d3",
   "metadata": {},
   "outputs": [],
   "source": [
    "# Step 1: Data Preprocessing - Convert categorical variables into numerical values\n",
    "categorical_columns = ['job_title', 'job_type', 'experience_level', 'location']\n",
    "numeric_columns = ['salary']\n",
    "\n",
    "# One-hot encode the categorical columns\n",
    "encoder = OneHotEncoder(drop='first', sparse=False)\n",
    "encoded_features = encoder.fit_transform(df[categorical_columns])\n",
    "\n",
    "# Create a new DataFrame with the encoded features and the numeric columns\n",
    "encoded_df = pd.DataFrame(encoded_features, columns=encoder.get_feature_names_out(categorical_columns))\n",
    "data_processed = pd.concat([encoded_df, df[numeric_columns]], axis=1)"
   ]
  },
  {
   "cell_type": "code",
   "execution_count": 25,
   "id": "37da2f3e",
   "metadata": {},
   "outputs": [],
   "source": [
    "# Step 2: Feature Engineering - Create interaction terms and standardize numeric columns\n",
    "# For simplicity, I will create an interaction term between 'job_title_ML Ops' and 'experience_level_Senior'\n",
    "data_processed['job_title_ML Ops * experience_level_Senior'] = data_processed['job_title_ML Ops'] * data_processed['experience_level_Senior']\n",
    "\n",
    "# Standardize numeric columns\n",
    "scaler = StandardScaler()\n",
    "data_processed[numeric_columns] = scaler.fit_transform(data_processed[numeric_columns])"
   ]
  },
  {
   "cell_type": "code",
   "execution_count": 26,
   "id": "e514980b",
   "metadata": {},
   "outputs": [],
   "source": [
    "# Step 3: Split the data into training and testing sets\n",
    "X = data_processed.drop('salary', axis=1)\n",
    "y = data_processed['salary']\n",
    "X_train, X_test, y_train, y_test = train_test_split(X, y, test_size=0.2, random_state=42)"
   ]
  },
  {
   "cell_type": "code",
   "execution_count": 27,
   "id": "67309142",
   "metadata": {},
   "outputs": [
    {
     "data": {
      "text/plain": [
       "Ridge()"
      ]
     },
     "execution_count": 27,
     "metadata": {},
     "output_type": "execute_result"
    }
   ],
   "source": [
    "# Step 4: Build the Multiple Linear Regression model with Ridge regularization\n",
    "ridge_regression_model = Ridge(alpha=1.0)  # Use alpha value as needed for regularization strength\n",
    "ridge_regression_model.fit(X_train, y_train)"
   ]
  },
  {
   "cell_type": "code",
   "execution_count": 28,
   "id": "7674930d",
   "metadata": {},
   "outputs": [
    {
     "data": {
      "text/plain": [
       "DecisionTreeRegressor(random_state=42)"
      ]
     },
     "execution_count": 28,
     "metadata": {},
     "output_type": "execute_result"
    }
   ],
   "source": [
    "# Step 5: Build the Decision Tree Regression model\n",
    "decision_tree_model = DecisionTreeRegressor(random_state=42)\n",
    "decision_tree_model.fit(X_train, y_train)"
   ]
  },
  {
   "cell_type": "code",
   "execution_count": 29,
   "id": "ea8bb6de",
   "metadata": {},
   "outputs": [
    {
     "name": "stdout",
     "output_type": "stream",
     "text": [
      "Ridge Regression Mean Squared Error: 0.6658440983580333\n",
      "Decision Tree Regression Mean Squared Error: 0.8698009723614151\n"
     ]
    }
   ],
   "source": [
    "# Step 6: Evaluate the models\n",
    "# For the Ridge Regression model\n",
    "y_pred_ridge = ridge_regression_model.predict(X_test)\n",
    "mse_ridge = mean_squared_error(y_test, y_pred_ridge)\n",
    "print(f\"Ridge Regression Mean Squared Error: {mse_ridge}\")\n",
    "\n",
    "# For the Decision Tree Regression model\n",
    "y_pred_tree = decision_tree_model.predict(X_test)\n",
    "mse_tree = mean_squared_error(y_test, y_pred_tree)\n",
    "print(f\"Decision Tree Regression Mean Squared Error: {mse_tree}\")"
   ]
  },
  {
   "cell_type": "markdown",
   "id": "08c07b63",
   "metadata": {},
   "source": [
    "The MSE for the Ridge Regression model is approximately 0.67. Since the MSE is relatively low, it suggests that the Ridge Regression model is making accurate predictions, and the predicted salary values are quite close to the actual salary values in the dataset."
   ]
  },
  {
   "cell_type": "markdown",
   "id": "5b1174e0",
   "metadata": {},
   "source": [
    "The MSE for the Decision Tree Regression model is approximately 0.87.  Similar to the Ridge Regression model, the Decision Tree model also has a relatively low MSE, indicating that it is making accurate predictions, and the predicted salary values are close to the actual salary values in the dataset."
   ]
  },
  {
   "cell_type": "markdown",
   "id": "36ce181e",
   "metadata": {},
   "source": [
    "A lower MSE implies better predictive performance, as it means the model's predicted salary values are closer to the actual salary values.\n",
    "Therefore, based on the MSE values, the Ridge Regression model is performing slightly better in predicting the salaries compared to the Decision Tree Regression model. This model with the location included is overall better in comparison with the one without location included. "
   ]
  },
  {
   "cell_type": "code",
   "execution_count": 30,
   "id": "5e101160",
   "metadata": {},
   "outputs": [
    {
     "data": {
      "image/png": "[encoded data removed]",
      "text/plain": [
       "<Figure size 800x600 with 1 Axes>"
      ]
     },
     "metadata": {},
     "output_type": "display_data"
    }
   ],
   "source": [
    "# Scatter plot for Ridge Regression\n",
    "plt.figure(figsize=(8, 6))\n",
    "plt.scatter(y_test, y_pred_ridge, color='blue', alpha=0.6, label='Ridge Regression')\n",
    "plt.plot([min(y_test), max(y_test)], [min(y_test), max(y_test)], 'k--', lw=2)\n",
    "plt.xlabel('Actual Salary')\n",
    "plt.ylabel('Predicted Salary')\n",
    "plt.title('Ridge Regression: Actual vs. Predicted Salary')\n",
    "plt.legend()\n",
    "plt.grid(True)\n",
    "plt.show()"
   ]
  },
  {
   "cell_type": "code",
   "execution_count": 31,
   "id": "6384b240",
   "metadata": {},
   "outputs": [
    {
     "data": {
      "image/png": "[encoded data removed]",
      "text/plain": [
       "<Figure size 800x600 with 1 Axes>"
      ]
     },
     "metadata": {},
     "output_type": "display_data"
    }
   ],
   "source": [
    "# Scatter plot for Decision Tree Regression\n",
    "plt.figure(figsize=(8, 6))\n",
    "plt.scatter(y_test, y_pred_tree, color='green', alpha=0.6, label='Decision Tree Regression')\n",
    "plt.plot([min(y_test), max(y_test)], [min(y_test), max(y_test)], 'k--', lw=2)\n",
    "plt.xlabel('Actual Salary')\n",
    "plt.ylabel('Predicted Salary')\n",
    "plt.title('Decision Tree Regression: Actual vs. Predicted Salary')\n",
    "plt.legend()\n",
    "plt.grid(True)\n",
    "plt.show()"
   ]
  },
  {
   "cell_type": "markdown",
   "id": "b9c4853b",
   "metadata": {},
   "source": [
    "As you can see the Ridge regression has less variance and more accurate prediction capabilities. "
   ]
  },
  {
   "cell_type": "code",
   "execution_count": null,
   "id": "b0e24b9e",
   "metadata": {},
   "outputs": [],
   "source": []
  }
 ],
 "metadata": {
  "kernelspec": {
   "display_name": "Python 3 (ipykernel)",
   "language": "python",
   "name": "python3"
  },
  "language_info": {
   "codemirror_mode": {
    "name": "ipython",
    "version": 3
   },
   "file_extension": ".py",
   "mimetype": "text/x-python",
   "name": "python",
   "nbconvert_exporter": "python",
   "pygments_lexer": "ipython3",
   "version": "3.9.13"
  }
 },
 "nbformat": 4,
 "nbformat_minor": 5
}
